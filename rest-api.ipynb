{
 "cells": [
  {
   "cell_type": "code",
   "execution_count": 160,
   "metadata": {},
   "outputs": [],
   "source": [
    "import pyodbc\n",
    "import json\n",
    "import requests"
   ]
  },
  {
   "cell_type": "code",
   "execution_count": 262,
   "metadata": {},
   "outputs": [],
   "source": [
    "# pyodbc.dataSources()"
   ]
  },
  {
   "cell_type": "code",
   "execution_count": 192,
   "metadata": {},
   "outputs": [],
   "source": [
    "driver =  '{Microsoft Access Driver (*.mdb, *.accdb)}'\n",
    "filePath = r'C:\\Users\\Danyal\\Desktop\\New folder\\HanvonFaceIDManager.mdb'"
   ]
  },
  {
   "cell_type": "code",
   "execution_count": 193,
   "metadata": {},
   "outputs": [],
   "source": [
    "myDataSources = pyodbc.dataSources()\n",
    "access_driver = myDataSources[ 'MS Access Database']"
   ]
  },
  {
   "cell_type": "code",
   "execution_count": 194,
   "metadata": {},
   "outputs": [],
   "source": [
    "connection = pyodbc.connect(driver = access_driver,dbq = filePath, autocommit=True)"
   ]
  },
  {
   "cell_type": "code",
   "execution_count": 195,
   "metadata": {},
   "outputs": [],
   "source": [
    "cursor= connection.cursor()"
   ]
  },
  {
   "cell_type": "code",
   "execution_count": 196,
   "metadata": {},
   "outputs": [],
   "source": [
    "#Reading all the tables from the file\n",
    "details = []\n",
    "tables = list(cursor.tables())\n",
    "for table in tables:\n",
    "    details.append(table[2]) "
   ]
  },
  {
   "cell_type": "code",
   "execution_count": 210,
   "metadata": {},
   "outputs": [
    {
     "data": {
      "text/plain": [
       "<pyodbc.Cursor at 0x736e020>"
      ]
     },
     "execution_count": 210,
     "metadata": {},
     "output_type": "execute_result"
    }
   ],
   "source": [
    "# defining query\n",
    "query = \"SELECT * FROM Attendance WHERE AttendanceID <= 500\"\n",
    "cursor.execute(query)"
   ]
  },
  {
   "cell_type": "code",
   "execution_count": 232,
   "metadata": {},
   "outputs": [],
   "source": [
    "query2 =  \"SELECT * FROM Attendance WHERE AttendanceID <= 1000\"\n",
    "cursor.execute(query2)\n",
    "query2= cursor.fetchall()"
   ]
  },
  {
   "cell_type": "code",
   "execution_count": 211,
   "metadata": {},
   "outputs": [],
   "source": [
    "#fetching all rows\n",
    "rows = cursor.fetchall()"
   ]
  },
  {
   "cell_type": "code",
   "execution_count": 217,
   "metadata": {},
   "outputs": [
    {
     "data": {
      "text/plain": [
       "500"
      ]
     },
     "execution_count": 217,
     "metadata": {},
     "output_type": "execute_result"
    }
   ],
   "source": [
    "len(rows) #Fetched first 500 rows because there are 15000 rows in one month"
   ]
  },
  {
   "cell_type": "code",
   "execution_count": 213,
   "metadata": {},
   "outputs": [],
   "source": [
    "data = {'items':[]} #Converting data into Json\n",
    "with open('new.json', 'w') as f:\n",
    "    for row in rows:\n",
    "        data['items'].append({'mchdb_pk': row[0],'sensorid':row[1],'userid': row[2],'checktime': row[3],'verifycode':row[4],'checktype':row[5]})"
   ]
  },
  {
   "cell_type": "code",
   "execution_count": 216,
   "metadata": {},
   "outputs": [
    {
     "name": "stdout",
     "output_type": "stream",
     "text": [
      "{'mchdb_pk': 1, 'sensorid': 1, 'userid': '289', 'checktime': '09-Dec-2017 08:24:53 PM', 'verifycode': '01', 'checktype': 'Test'}\n",
      "{'mchdb_pk': 2, 'sensorid': 1, 'userid': '158', 'checktime': '09-Dec-2017 07:46:33 PM', 'verifycode': '01', 'checktype': 'Test'}\n",
      "{'mchdb_pk': 5, 'sensorid': 1, 'userid': '2614', 'checktime': '08-Dec-2017 07:33:19 PM', 'verifycode': '01', 'checktype': 'Test'}\n",
      "{'mchdb_pk': 7, 'sensorid': 1, 'userid': '625', 'checktime': '09-Dec-2017 08:09:10 AM', 'verifycode': '01', 'checktype': 'Test'}\n",
      "{'mchdb_pk': 9, 'sensorid': 1, 'userid': '228', 'checktime': '08-Dec-2017 08:06:21 AM', 'verifycode': '01', 'checktype': 'Test'}\n",
      "{'mchdb_pk': 10, 'sensorid': 1, 'userid': '255', 'checktime': '10-Dec-2017 07:48:50 PM', 'verifycode': '01', 'checktype': 'Test'}\n",
      "{'mchdb_pk': 12, 'sensorid': 1, 'userid': '3207', 'checktime': '07-Dec-2017 08:04:34 AM', 'verifycode': '01', 'checktype': 'Test'}\n",
      "{'mchdb_pk': 13, 'sensorid': 1, 'userid': '3071', 'checktime': '08-Dec-2017 08:03:36 AM', 'verifycode': '01', 'checktype': 'Test'}\n",
      "{'mchdb_pk': 18, 'sensorid': 1, 'userid': '2515', 'checktime': '08-Dec-2017 07:48:41 AM', 'verifycode': '01', 'checktype': 'Test'}\n",
      "{'mchdb_pk': 20, 'sensorid': 1, 'userid': '1641', 'checktime': '07-Dec-2017 07:35:38 AM', 'verifycode': '01', 'checktype': 'Test'}\n"
     ]
    }
   ],
   "source": [
    "i = 0\n",
    "for x in data['items']:\n",
    "    if x['verifycode'] == '01':\n",
    "        print(x)\n",
    "        i += 1\n",
    "        if i % 10 == 0:\n",
    "            break"
   ]
  },
  {
   "cell_type": "code",
   "execution_count": 219,
   "metadata": {
    "scrolled": false
   },
   "outputs": [],
   "source": [
    "for index, value in enumerate(data['items']):\n",
    "    if value['verifycode'] == '01':\n",
    "        r = requests.post('http://151.80.237.86:1251/ords/zkt/ZktAtt/att?sensorid=1', json = value)\n",
    "    elif value['verifycode'] == '02':\n",
    "        r = requests.post('http://151.80.237.86:1251/ords/zkt/ZktAtt/att?sensorid=2',json = value)\n",
    "    elif value['verifycode'] == '03':\n",
    "        r = requests.post('http://151.80.237.86:1251/ords/zkt/ZktAtt/att?sensorid=3',json = value)"
   ]
  },
  {
   "cell_type": "code",
   "execution_count": 226,
   "metadata": {},
   "outputs": [],
   "source": [
    "getMaxNum1 = requests.get('http://151.80.237.86:1251/ords/zkt/ZktAtt/att?sensorid=1') #getting max number from machine 1\n",
    "getMaxNum2 = requests.get('http://151.80.237.86:1251/ords/zkt/ZktAtt/att?sensorid=2')#getting max number from machine 2\n",
    "getMaxNum3 = requests.get('http://151.80.237.86:1251/ords/zkt/ZktAtt/att?sensorid=3')#getting max number from machine 3\n",
    "\n",
    "dataJson1 = getMaxNum1.json()\n",
    "dataJson2= getMaxNum2.json()\n",
    "dataJson3 = getMaxNum3.json()\n",
    "\n",
    "#Storing the data  into variable to upload after the last record\n",
    "for val1 in dataJson1['items']:\n",
    "    max_value1 = val1['max(mchdb_pk)']\n",
    "\n",
    "for val2 in dataJson2['items']:\n",
    "    max_value2 = val2['max(mchdb_pk)'] \n",
    "\n",
    "for val3 in dataJson3['items']:\n",
    "    max_value3 = val3['max(mchdb_pk)'] "
   ]
  },
  {
   "cell_type": "code",
   "execution_count": 269,
   "metadata": {},
   "outputs": [
    {
     "name": "stdout",
     "output_type": "stream",
     "text": [
      "Max Value of each sensor id\n",
      "**********\n",
      "sensorid \"1\" : 499\n",
      "sensorid \"2\" : 500\n",
      "sensorid \"3\" : None\n"
     ]
    }
   ],
   "source": [
    "print('Max Value of each sensor id')\n",
    "print('*' * 10)\n",
    "print('sensorid \"1\" :' , max_value1)\n",
    "print('sensorid \"2\" :' , max_value2)\n",
    "print('sensorid \"3\" :' , max_value3)"
   ]
  },
  {
   "cell_type": "code",
   "execution_count": 234,
   "metadata": {},
   "outputs": [],
   "source": [
    "#I was taken the records from 1 - 1000 in query 2 even the last query data included the records of query 1, this will update the record in JSON\n",
    "data = {'items':[]} #Converting data into Json\n",
    "with open('new.json', 'w') as f:\n",
    "    for row in query2:\n",
    "        data['items'].append({'mchdb_pk': row[0],'sensorid':row[1],'userid': row[2],'checktime': row[3],'verifycode':row[4],'checktype':row[5]})"
   ]
  },
  {
   "cell_type": "code",
   "execution_count": 246,
   "metadata": {},
   "outputs": [],
   "source": [
    "for val in data['items']: #updating the data after the last record to their locations\n",
    "    if val['mchdb_pk'] >= max_value1 + 1:\n",
    "        if val['verifycode'] == '01':\n",
    "            try:\n",
    "                r = requests.post('http://151.80.237.86:1251/ords/zkt/ZktAtt/att?sensorid=1', json = val)\n",
    "            except Exception as e:\n",
    "                e\n",
    "                \n",
    "for val in data['items']:\n",
    "    if val['mchdb_pk'] >= max_value2 + 1:  #updating the data after the last record to their locations\n",
    "        if val['verifycode'] == '02':\n",
    "            try:\n",
    "                r = requests.post('http://151.80.237.86:1251/ords/zkt/ZktAtt/att?sensorid=2', json = val)\n",
    "            except Exception as e:\n",
    "                e\n",
    "            \n",
    "for val in data['items']:\n",
    "    if val['mchdb_pk'] >= max_value3 +1 :  #updating the data after the last record to their locations\n",
    "        if val['verifycode'] == '03':\n",
    "            try:\n",
    "                r = requests.post('http://151.80.237.86:1251/ords/zkt/ZktAtt/att?sensorid=3', json = val)\n",
    "            except Exception as e:\n",
    "                e"
   ]
  },
  {
   "cell_type": "code",
   "execution_count": 250,
   "metadata": {},
   "outputs": [
    {
     "name": "stdout",
     "output_type": "stream",
     "text": [
      "{'mchdb_pk': 501, 'sensorid': 1, 'userid': '2256', 'checktime': '08-Dec-2017 08:12:59 PM', 'verifycode': '02', 'checktype': 'Test'}\n"
     ]
    }
   ],
   "source": [
    "for val in data['items']: #updating the data after the last record to their locations\n",
    "    if val['mchdb_pk'] >= max_value2 + 1:\n",
    "        if val['verifycode'] == '02':\n",
    "            print(val)\n",
    "            break\n",
    "#data was updating after 500"
   ]
  }
 ],
 "metadata": {
  "kernelspec": {
   "display_name": "Python 3.7.7 32-bit",
   "language": "python",
   "name": "python37732bitadb6575366ab46d5a01b47ec75c9bd95"
  },
  "language_info": {
   "codemirror_mode": {
    "name": "ipython",
    "version": 3
   },
   "file_extension": ".py",
   "mimetype": "text/x-python",
   "name": "python",
   "nbconvert_exporter": "python",
   "pygments_lexer": "ipython3",
   "version": "3.7.7"
  }
 },
 "nbformat": 4,
 "nbformat_minor": 4
}
